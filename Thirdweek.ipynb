{
 "cells": [
  {
   "cell_type": "code",
   "execution_count": 9,
   "metadata": {},
   "outputs": [
    {
     "name": "stdout",
     "output_type": "stream",
     "text": [
      "['hero', 'red line', 'honda', 'ranger']\n"
     ]
    },
    {
     "ename": "IndexError",
     "evalue": "list index out of range",
     "output_type": "error",
     "traceback": [
      "\u001b[1;31m---------------------------------------------------------------------------\u001b[0m",
      "\u001b[1;31mIndexError\u001b[0m                                Traceback (most recent call last)",
      "\u001b[1;32m<ipython-input-9-c8a902e5efe3>\u001b[0m in \u001b[0;36m<module>\u001b[1;34m\u001b[0m\n\u001b[0;32m     11\u001b[0m \u001b[1;31m#what if i want to index which is not there in the list... we get the error like list index ot of range\u001b[0m\u001b[1;33m\u001b[0m\u001b[1;33m\u001b[0m\u001b[1;33m\u001b[0m\u001b[0m\n\u001b[0;32m     12\u001b[0m \u001b[1;33m\u001b[0m\u001b[0m\n\u001b[1;32m---> 13\u001b[1;33m \u001b[0mprint\u001b[0m\u001b[1;33m(\u001b[0m\u001b[0mbicycles\u001b[0m\u001b[1;33m[\u001b[0m\u001b[1;36m4\u001b[0m\u001b[1;33m]\u001b[0m\u001b[1;33m)\u001b[0m\u001b[1;33m\u001b[0m\u001b[1;33m\u001b[0m\u001b[0m\n\u001b[0m",
      "\u001b[1;31mIndexError\u001b[0m: list index out of range"
     ]
    }
   ],
   "source": [
    "#Introduction_to_List Data Type.\n",
    "#List is a mutable data type. it is nothing but which can be chnaged once assigned.\n",
    "#List is collection of items in a particula order\n",
    "\n",
    "#index will be start from 0 ,1,2.....\n",
    "#knowing the position.\n",
    "\n",
    "bicycles = ['hero','red line','honda','ranger']\n",
    "print(bicycles)\n",
    "\n",
    "#what if i want to index which is not there in the list... we get the error like list index ot of range\n",
    "\n",
    "print(bicycles[4])\n"
   ]
  },
  {
   "cell_type": "code",
   "execution_count": 3,
   "metadata": {},
   "outputs": [
    {
     "name": "stdout",
     "output_type": "stream",
     "text": [
      "ranger\n"
     ]
    }
   ],
   "source": [
    "print(bicycles[3])"
   ]
  },
  {
   "cell_type": "code",
   "execution_count": 8,
   "metadata": {},
   "outputs": [
    {
     "name": "stdout",
     "output_type": "stream",
     "text": [
      "Hero\n"
     ]
    }
   ],
   "source": [
    "bicycles = ['hero','red line','honda','ranger']\n",
    "\n",
    "print(bicycles[0].title())"
   ]
  },
  {
   "cell_type": "code",
   "execution_count": 3,
   "metadata": {},
   "outputs": [
    {
     "name": "stdout",
     "output_type": "stream",
     "text": [
      "my first bicycle was Ranger.\n",
      "my first bicycle was ranger.\n"
     ]
    }
   ],
   "source": [
    "bicycles = ['hero','red line','honda','ranger']\n",
    "\n",
    "message = f\"my first bicycle was {bicycles[3].title()}.\"\n",
    "\n",
    "print(message)\n",
    "\n",
    "message = f\"my first bicycle was {bicycles[3].lower()}.\"\n",
    "\n",
    "print(message)"
   ]
  },
  {
   "cell_type": "code",
   "execution_count": 16,
   "metadata": {},
   "outputs": [
    {
     "name": "stdout",
     "output_type": "stream",
     "text": [
      "my first bicycle was RANGER.\n"
     ]
    }
   ],
   "source": [
    "message = f\"my first bicycle was {bicycles[3].upper()}.\"\n",
    "print(message)"
   ]
  },
  {
   "cell_type": "code",
   "execution_count": 18,
   "metadata": {},
   "outputs": [
    {
     "name": "stdout",
     "output_type": "stream",
     "text": [
      "['honda', 'yamaha', 'suziki']\n"
     ]
    }
   ],
   "source": [
    "# how to change , add and modify elements in a list\n",
    "\n",
    "motorcycles = ['honda','yamaha','suziki']\n",
    "print(motorcycles)"
   ]
  },
  {
   "cell_type": "code",
   "execution_count": 19,
   "metadata": {},
   "outputs": [
    {
     "name": "stdout",
     "output_type": "stream",
     "text": [
      "['ducati', 'yamaha', 'suziki']\n"
     ]
    }
   ],
   "source": [
    "# how to chnage the elements in the list.. ans- by using index possition \n",
    "\n",
    "motorcycles[0] = 'ducati'\n",
    "print(motorcycles)"
   ]
  },
  {
   "cell_type": "code",
   "execution_count": 20,
   "metadata": {},
   "outputs": [
    {
     "name": "stdout",
     "output_type": "stream",
     "text": [
      "['honda', 'yamaha', 'suziki', 'ducati']\n"
     ]
    }
   ],
   "source": [
    "# how to add/append the element in the list\n",
    "\n",
    "motorcycles = ['honda','yamaha','suziki']\n",
    "\n",
    "motorcycles.append('ducati')\n",
    "print(motorcycles)\n",
    "\n"
   ]
  },
  {
   "cell_type": "code",
   "execution_count": 21,
   "metadata": {},
   "outputs": [
    {
     "name": "stdout",
     "output_type": "stream",
     "text": [
      "['honda', 'ducati', 'yamaha', 'suziki', 'ducati']\n"
     ]
    }
   ],
   "source": [
    "#one point to remainder ...\n",
    "# if i wanted include ducati in the first index position above given list\n",
    "#how do u assign \n",
    "\n",
    "motorcycles.insert(1, 'ducati')\n",
    "print(motorcycles)"
   ]
  },
  {
   "cell_type": "code",
   "execution_count": 4,
   "metadata": {},
   "outputs": [
    {
     "name": "stdout",
     "output_type": "stream",
     "text": [
      "['audi', 'bmw', 'volvo', 'swift', 'cruse', 'indigo']\n"
     ]
    }
   ],
   "source": [
    "car = []\n",
    "\n",
    "#creating an empty list... dynamic creation of the list...\n",
    "\n",
    "car.append('audi')\n",
    "car.append('bmw')\n",
    "car.append('volvo')\n",
    "car.append('swift')\n",
    "car.append('cruse')\n",
    "car.append('indigo')\n",
    "\n",
    "print(car)"
   ]
  },
  {
   "cell_type": "code",
   "execution_count": 23,
   "metadata": {},
   "outputs": [
    {
     "name": "stdout",
     "output_type": "stream",
     "text": [
      "['honda', 'yamaha', 'suziki']\n",
      "['honda', 'yamaha']\n"
     ]
    }
   ],
   "source": [
    "# how to delete the elements in the list\n",
    "\n",
    "motorcycles = ['honda','yamaha','suziki']\n",
    "print(motorcycles)\n",
    "del motorcycles[2]\n",
    "\n",
    "print(motorcycles)"
   ]
  },
  {
   "cell_type": "code",
   "execution_count": 25,
   "metadata": {},
   "outputs": [
    {
     "name": "stdout",
     "output_type": "stream",
     "text": [
      "['honda', 'yamaha']\n"
     ]
    }
   ],
   "source": [
    "# when ever we are using .pop function it will automatically delete the last element.\n",
    "#it will delete items permantaly.. the deleted items will be stored seperatly in another variable declared.\n",
    "\n",
    "motorcycles = ['honda','yamaha','suziki']\n",
    "\n",
    "motorcycles.pop()\n",
    "\n",
    "print(motorcycles)"
   ]
  },
  {
   "cell_type": "code",
   "execution_count": 26,
   "metadata": {},
   "outputs": [
    {
     "name": "stdout",
     "output_type": "stream",
     "text": [
      "['yamaha', 'suziki']\n"
     ]
    }
   ],
   "source": [
    "# we will use insex position as well for deleting the certain element .\n",
    "motorcycles = ['honda','yamaha','suziki']\n",
    "motorcycles.pop(0)\n",
    "print(motorcycles)"
   ]
  },
  {
   "cell_type": "code",
   "execution_count": 27,
   "metadata": {},
   "outputs": [
    {
     "name": "stdout",
     "output_type": "stream",
     "text": [
      "['honda', 'yamaha', 'suziki', 'r15', 'pulsar']\n",
      "['honda', 'pulsar', 'r15', 'suziki', 'yamaha']\n"
     ]
    }
   ],
   "source": [
    "motorcycles = ['honda','yamaha','suziki','r15','pulsar']\n",
    "\n",
    "print(motorcycles)\n",
    "# how to sort the list\n",
    "# for arranging in a particular order\n",
    "\n",
    "motorcycles.sort()\n",
    "print(motorcycles)\n"
   ]
  },
  {
   "cell_type": "code",
   "execution_count": 28,
   "metadata": {},
   "outputs": [
    {
     "name": "stdout",
     "output_type": "stream",
     "text": [
      "['pulsar', 'r15', 'suziki', 'yamaha', 'honda']\n"
     ]
    }
   ],
   "source": [
    "# how to print the elemnts in revers order\n",
    "\n",
    "motorcycles = ['honda','yamaha','suziki','r15','pulsar']\n",
    "\n",
    "motorcycles.reverse()\n",
    "print(motorcycles)\n"
   ]
  },
  {
   "cell_type": "code",
   "execution_count": 12,
   "metadata": {},
   "outputs": [
    {
     "data": {
      "text/plain": [
       "6"
      ]
     },
     "execution_count": 12,
     "metadata": {},
     "output_type": "execute_result"
    }
   ],
   "source": [
    "# how to count the no of elements present in a list....\n",
    "motorcycles = ['honda','yamaha','suziki','r15','pulsar','cruze']\n",
    "len(motorcycles)\n"
   ]
  },
  {
   "cell_type": "code",
   "execution_count": 34,
   "metadata": {},
   "outputs": [
    {
     "name": "stdout",
     "output_type": "stream",
     "text": [
      "harry\n",
      "dumbledore\n",
      "hormanie\n",
      "anand\n"
     ]
    }
   ],
   "source": [
    "# introdution to for loops!!\n",
    "# looping through an entire list\n",
    "# by performing iteration\n",
    "# the space is called indentaion 4 lines of free space advised by the zen pf python\n",
    "magicians = ['harry','dumbledore','hormanie','anand']\n",
    "for x in magicians:\n",
    "    print(x)"
   ]
  },
  {
   "cell_type": "code",
   "execution_count": 33,
   "metadata": {},
   "outputs": [
    {
     "name": "stdout",
     "output_type": "stream",
     "text": [
      "Harry, that was a great trick!\n",
      "i cant wait to see your next trick, Harry\n",
      "Dumbledore, that was a great trick!\n",
      "i cant wait to see your next trick, Dumbledore\n",
      "Hormanie, that was a great trick!\n",
      "i cant wait to see your next trick, Hormanie\n",
      "Anand, that was a great trick!\n",
      "i cant wait to see your next trick, Anand\n"
     ]
    }
   ],
   "source": [
    "magicians = ['harry','dumbledore','hormanie','anand']\n",
    "for x in magicians:\n",
    "    print(f\"{x.title()}, that was a great trick!\")\n",
    "    print(f\"i cant wait to see your next trick, {x.title()}\")"
   ]
  },
  {
   "cell_type": "code",
   "execution_count": 38,
   "metadata": {},
   "outputs": [
    {
     "name": "stdout",
     "output_type": "stream",
     "text": [
      "1\n",
      "2\n",
      "3\n",
      "4\n",
      "5\n",
      "6\n",
      "7\n",
      "8\n",
      "9\n",
      "10\n",
      "11\n",
      "12\n",
      "13\n",
      "14\n",
      "15\n",
      "16\n",
      "17\n",
      "18\n",
      "19\n",
      "20\n"
     ]
    }
   ],
   "source": [
    "#making numerical list....!!\n",
    "for x in range(1,21):\n",
    "    print(x)\n",
    "    #how the range function works.\n",
    "    #non inclusive and exculsive values\n"
   ]
  },
  {
   "cell_type": "code",
   "execution_count": 41,
   "metadata": {},
   "outputs": [
    {
     "name": "stdout",
     "output_type": "stream",
     "text": [
      "[1, 2, 3, 4, 5, 6, 7, 8, 9]\n"
     ]
    }
   ],
   "source": [
    "# using range to make a list of numbers \n",
    "numbers = list(range(1,10))\n",
    "print(numbers)"
   ]
  },
  {
   "cell_type": "code",
   "execution_count": 44,
   "metadata": {},
   "outputs": [
    {
     "name": "stdout",
     "output_type": "stream",
     "text": [
      "[2, 4, 6, 8, 10, 12, 14, 16, 18]\n",
      "[2, 5, 8, 11, 14, 17]\n"
     ]
    }
   ],
   "source": [
    "# now the requiremnt is print the even numbers from 1 to 20.\n",
    "even_numbers = list(range(2,20,2))\n",
    "print(even_numbers)\n",
    "even_numbers = list(range(2,20,3))\n",
    "print(even_numbers)"
   ]
  },
  {
   "cell_type": "code",
   "execution_count": 46,
   "metadata": {},
   "outputs": [
    {
     "data": {
      "text/plain": [
       "34"
      ]
     },
     "execution_count": 46,
     "metadata": {},
     "output_type": "execute_result"
    }
   ],
   "source": [
    "#how to perform simple statical operations on a list \n",
    "\n",
    "digits = [2,4,5,6,8,9]\n",
    "min(digits)\n",
    "digits = [2,4,5,6,8,9]\n",
    "sum(digits)"
   ]
  },
  {
   "cell_type": "code",
   "execution_count": 49,
   "metadata": {},
   "outputs": [
    {
     "name": "stdout",
     "output_type": "stream",
     "text": [
      "['sachin', 'dhoni', 'dravid']\n"
     ]
    }
   ],
   "source": [
    "# slicing of list ....** \n",
    "players = ['yuvaraj','ganguly','sachin','dhoni','dravid']\n",
    "\n",
    "# i want to print out only the values from sachin to dravid..?\n",
    "\n",
    "print(players[2:5])"
   ]
  },
  {
   "cell_type": "code",
   "execution_count": null,
   "metadata": {},
   "outputs": [],
   "source": []
  },
  {
   "cell_type": "code",
   "execution_count": null,
   "metadata": {},
   "outputs": [],
   "source": []
  },
  {
   "cell_type": "code",
   "execution_count": null,
   "metadata": {},
   "outputs": [],
   "source": []
  },
  {
   "cell_type": "code",
   "execution_count": null,
   "metadata": {},
   "outputs": [],
   "source": []
  },
  {
   "cell_type": "code",
   "execution_count": null,
   "metadata": {},
   "outputs": [],
   "source": []
  },
  {
   "cell_type": "code",
   "execution_count": null,
   "metadata": {},
   "outputs": [],
   "source": []
  },
  {
   "cell_type": "code",
   "execution_count": null,
   "metadata": {},
   "outputs": [],
   "source": []
  },
  {
   "cell_type": "code",
   "execution_count": null,
   "metadata": {},
   "outputs": [],
   "source": []
  },
  {
   "cell_type": "code",
   "execution_count": null,
   "metadata": {},
   "outputs": [],
   "source": []
  },
  {
   "cell_type": "code",
   "execution_count": null,
   "metadata": {},
   "outputs": [],
   "source": []
  },
  {
   "cell_type": "code",
   "execution_count": null,
   "metadata": {},
   "outputs": [],
   "source": []
  },
  {
   "cell_type": "code",
   "execution_count": null,
   "metadata": {},
   "outputs": [],
   "source": []
  },
  {
   "cell_type": "code",
   "execution_count": null,
   "metadata": {},
   "outputs": [],
   "source": []
  }
 ],
 "metadata": {
  "kernelspec": {
   "display_name": "Python 3",
   "language": "python",
   "name": "python3"
  },
  "language_info": {
   "codemirror_mode": {
    "name": "ipython",
    "version": 3
   },
   "file_extension": ".py",
   "mimetype": "text/x-python",
   "name": "python",
   "nbconvert_exporter": "python",
   "pygments_lexer": "ipython3",
   "version": "3.7.3"
  }
 },
 "nbformat": 4,
 "nbformat_minor": 2
}
